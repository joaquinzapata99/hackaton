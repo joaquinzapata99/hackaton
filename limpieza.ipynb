{
 "cells": [
  {
   "cell_type": "code",
   "execution_count": null,
   "metadata": {},
   "outputs": [],
   "source": [
    "# importamos librerías\n",
    "\n",
    "import pandas as pd\n",
    "import numpy as np\n",
    "from datetime import datetime"
   ]
  },
  {
   "cell_type": "code",
   "execution_count": null,
   "metadata": {},
   "outputs": [],
   "source": [
    "# Cargar el dataset\n",
    "df = pd.read_csv(\"hackaton.csv\", encoding=\"utf-8\")"
   ]
  },
  {
   "cell_type": "code",
   "execution_count": null,
   "metadata": {},
   "outputs": [],
   "source": [
    "# Corregir tipo_ev con nombres adecuados y valores válidos\n",
    "tipo_ev_map = {\n",
    "    10: \"Alimentación y estilo de vida\",\n",
    "    11: \"Arte\",\n",
    "    12: \"Charlas\",\n",
    "    13: \"Deportes\",\n",
    "    14: \"Fondos de inversión\",\n",
    "    15: \"Música\",\n",
    "    16: \"Planes universitarios\",\n",
    "    17: \"Seguros de ahorro\",\n",
    "    18: \"Tecnología\"\n",
    "}\n",
    "\n",
    "# Reemplaza el numero por el tipo de evento\n",
    "df[\"tipo_ev\"] = pd.to_numeric(df[\"tipo_ev\"], errors=\"coerce\")  # Convertir a numérico\n",
    "df = df[df[\"tipo_ev\"].between(10, 18)]  # Filtrar valores fuera del rango\n",
    "df[\"tipo_ev\"] = df[\"tipo_ev\"].map(tipo_ev_map)  # Reemplazar por nombres"
   ]
  },
  {
   "cell_type": "code",
   "execution_count": null,
   "metadata": {},
   "outputs": [],
   "source": [
    "# Corregir errores de escritura en nombre_ev\n",
    "errores_nombre_ev = {\n",
    "    \"Estrateggias paraacum ular fondos\": \"Estrategias para acumular fondos\"\n",
    "}\n",
    "df[\"nombre_ev\"] = df[\"nombre_ev\"].replace(errores_nombre_ev)\n",
    "\n",
    "# En un modelo mas avanzado, planteariamos la inclusion de una IA para la correccion de errores de escritura"
   ]
  },
  {
   "cell_type": "code",
   "execution_count": null,
   "metadata": {},
   "outputs": [],
   "source": [
    "# Rellenar valores faltantes en prod_as_ev con nombre_ev\n",
    "df[\"prod_as_ev\"].fillna(df[\"nombre_ev\"], inplace=True)\n",
    "\n",
    "# Rellenar valores faltantes en todas las columnas\n",
    "for col in df.columns:\n",
    "    if df[col].dtype in [\"int64\", \"float64\"]:  # Si es numérica\n",
    "        df[col].fillna(df[col].mean(), inplace=True)  # Rellenar con la media\n",
    "    else:  # Si es de texto o categórica\n",
    "        df[col].fillna(\"N/A\", inplace=True)  # Rellenar con \"N/A\""
   ]
  },
  {
   "cell_type": "code",
   "execution_count": null,
   "metadata": {},
   "outputs": [],
   "source": [
    "# Normalizar ciudades y provincias\n",
    "abreviaturas = {\n",
    "    \"ZGZ\": \"Zaragoza\", \"BCN\": \"Barcelona\", \"MAD\": \"Madrid\", \"SEV\": \"Sevilla\",\n",
    "    \"BIL\": \"Bilbao\", \"zaragoza\": \"Zaragoza\", \"madrid\": \"Madrid\",\n",
    "    \"bilbao\": \"Bilbao\", \"sevilla\": \"Sevilla\"\n",
    "}\n",
    "df[\"loc_ev\"] = df[\"loc_ev\"].replace(abreviaturas)\n",
    "df[\"prov\"] = df[\"prov\"].replace(abreviaturas)"
   ]
  },
  {
   "cell_type": "code",
   "execution_count": null,
   "metadata": {},
   "outputs": [],
   "source": [
    "# Cambiar H y M en sexo a Hombre y Mujer\n",
    "df[\"sexo\"] = df[\"sexo\"].replace({\"H\": \"Hombre\", \"M\": \"Mujer\"})"
   ]
  },
  {
   "cell_type": "code",
   "execution_count": null,
   "metadata": {},
   "outputs": [],
   "source": [
    "# Asegurar que importe_activos_0 y importe_activos_1 sean float con 2 decimales\n",
    "df[\"importe_activos_0\"] = df[\"importe_activos_0\"].astype(float).round(2)\n",
    "df[\"importe_activos_1\"] = df[\"importe_activos_1\"].astype(float).round(2)"
   ]
  },
  {
   "cell_type": "code",
   "execution_count": null,
   "metadata": {},
   "outputs": [],
   "source": [
    "# Calcular edad y categorizarla\n",
    "def calcular_categoria_edad(fecha_nac):\n",
    "    if pd.isna(fecha_nac):\n",
    "        return np.nan  # Si la fecha es nula, dejamos NaN\n",
    "    \n",
    "    fecha_nac = datetime.strptime(fecha_nac, \"%d/%m/%Y\")\n",
    "    edad = datetime.today().year - fecha_nac.year - ((datetime.today().month, datetime.today().day) < (fecha_nac.month, fecha_nac.day))\n",
    "\n",
    "    if 18 <= edad <= 25:\n",
    "        return \"18-25 años\"\n",
    "    elif 26 <= edad <= 35:\n",
    "        return \"26-35 años\"\n",
    "    elif 36 <= edad <= 50:\n",
    "        return \"35-50 años\"\n",
    "    elif 51 <= edad <= 65:\n",
    "        return \"51-65 años\"\n",
    "    else:\n",
    "        return \"> 65 años\"\n",
    "\n",
    "df[\"cat_edad\"] = df[\"fecha_nac\"].apply(calcular_categoria_edad)\n"
   ]
  },
  {
   "cell_type": "code",
   "execution_count": null,
   "metadata": {},
   "outputs": [],
   "source": [
    "# Guardar el dataset limpio\n",
    "df.to_csv(\"dataset_limpio.csv\", index=False, encoding=\"utf-8\")\n",
    "\n",
    "print(\" Dataset limpiado y guardado como dataset_limpio.csv\")"
   ]
  }
 ],
 "metadata": {
  "kernelspec": {
   "display_name": "Python 3",
   "language": "python",
   "name": "python3"
  },
  "language_info": {
   "name": "python",
   "version": "3.13.1"
  }
 },
 "nbformat": 4,
 "nbformat_minor": 2
}
